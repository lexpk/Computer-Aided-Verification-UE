{
 "cells": [
  {
   "cell_type": "code",
   "execution_count": 1,
   "metadata": {},
   "outputs": [
    {
     "data": {
      "text/plain": [
       "{'boolean_variables': ['request'],\n",
       " 'enum_variables': ['state'],\n",
       " 'enum_values': [['ready', 'busy']],\n",
       " 'invar': [],\n",
       " 'init': [(state = ready)],\n",
       " 'trans': [(((state = ready) ∧ request) → (next(state) = busy))],\n",
       " 'ltl': [G (request → F (state = busy)), G (request → XF (state = busy))]}"
      ]
     },
     "execution_count": 1,
     "metadata": {},
     "output_type": "execute_result"
    }
   ],
   "source": [
    "from parse import parse\n",
    "\n",
    "with open('examples/short.smv') as f:\n",
    "    input = f.read()\n",
    "parse(input)"
   ]
  },
  {
   "cell_type": "code",
   "execution_count": 2,
   "metadata": {},
   "outputs": [
    {
     "data": {
      "text/plain": [
       "{'boolean_variables': [],\n",
       " 'enum_variables': ['move', 'd4', 'd3', 'd2', 'd1'],\n",
       " 'enum_values': [['m1', 'm2', 'm3', 'm4'],\n",
       "  ['left', 'middle', 'right'],\n",
       "  ['left', 'middle', 'right'],\n",
       "  ['left', 'middle', 'right'],\n",
       "  ['left', 'middle', 'right']],\n",
       " 'invar': [¬((move = m1) ∧ (d1 ∈ [d2, d3, d4])),\n",
       "  ¬((move = m2) ∧ (d2 ∈ [d3, d4])),\n",
       "  ¬((move = m3) ∧ (d3 = d4))],\n",
       " 'init': [((d1 = left) ∧ ((d2 = left) ∧ ((d3 = left) ∧ (d4 = left))))],\n",
       " 'trans': [((move = m1) ∨ (next(d1) = d1)),\n",
       "  ((move = m2) ∨ (next(d2) = d2)),\n",
       "  ((move = m3) ∨ (next(d3) = d3)),\n",
       "  ((move = m4) ∨ (next(d4) = d4)),\n",
       "  ¬((move = m1) ∧ (next(d1) ∈ [d2, d3, d4])),\n",
       "  ¬((move = m2) ∧ (next(d2) ∈ [d3, d4])),\n",
       "  ¬((move = m3) ∧ (next(d3) = d4))],\n",
       " 'ltl': [¬F ((d1 = right) ∧ ((d2 = right) ∧ ((d3 = right) ∧ (d4 = right))))]}"
      ]
     },
     "execution_count": 2,
     "metadata": {},
     "output_type": "execute_result"
    }
   ],
   "source": [
    "from parse import parse\n",
    "\n",
    "with open('examples/hanoi.smv') as f:\n",
    "    input = f.read()\n",
    "parse(input)"
   ]
  },
  {
   "cell_type": "code",
   "execution_count": 3,
   "metadata": {},
   "outputs": [
    {
     "data": {
      "text/plain": [
       "{'boolean_variables': [],\n",
       " 'enum_variables': ['move', 'cabbage', 'goat', 'wolf', 'farmer'],\n",
       " 'enum_values': [['w', 'g', 'c', 'none'],\n",
       "  ['left', 'right'],\n",
       "  ['left', 'right'],\n",
       "  ['left', 'right'],\n",
       "  ['left', 'right']],\n",
       " 'invar': [((move = w) → (wolf = farmer)),\n",
       "  ((move = g) → (goat = farmer)),\n",
       "  ((move = c) → (cabbage = farmer)),\n",
       "  ((wolf = goat) → (wolf = farmer)),\n",
       "  ((goat = cabbage) → (goat = farmer))],\n",
       " 'init': [(farmer = left), (wolf = left), (goat = left), (cabbage = left)],\n",
       " 'trans': [¬(next(farmer) = farmer),\n",
       "  ((move = w) ∨ (next(wolf) = wolf)),\n",
       "  ((move = g) ∨ (next(goat) = goat)),\n",
       "  ((move = c) ∨ (next(cabbage) = cabbage)),\n",
       "  ((move = w) → ¬(next(wolf) = wolf)),\n",
       "  ((move = g) → ¬(next(goat) = goat)),\n",
       "  ((move = c) → ¬(next(cabbage) = cabbage))],\n",
       " 'ltl': [¬F ((farmer = right) ∧ ((wolf = right) ∧ ((goat = right) ∧ (cabbage = right))))]}"
      ]
     },
     "execution_count": 3,
     "metadata": {},
     "output_type": "execute_result"
    }
   ],
   "source": [
    "from parse import parse\n",
    "\n",
    "with open('examples/ferryman.smv') as f:\n",
    "    input = f.read()\n",
    "parse(input)"
   ]
  }
 ],
 "metadata": {
  "kernelspec": {
   "display_name": "cav",
   "language": "python",
   "name": "python3"
  },
  "language_info": {
   "codemirror_mode": {
    "name": "ipython",
    "version": 3
   },
   "file_extension": ".py",
   "mimetype": "text/x-python",
   "name": "python",
   "nbconvert_exporter": "python",
   "pygments_lexer": "ipython3",
   "version": "3.12.3"
  }
 },
 "nbformat": 4,
 "nbformat_minor": 2
}
