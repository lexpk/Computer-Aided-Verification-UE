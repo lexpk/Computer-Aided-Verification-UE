{
 "cells": [
  {
   "cell_type": "code",
   "execution_count": 1,
   "metadata": {},
   "outputs": [
    {
     "data": {
      "text/plain": [
       "([(proc, idle)],\n",
       " [(proc,\n",
       "   case (proc = idle) -> {idle, entering} | (proc = entering) -> critical | (proc = critical) -> {critical, exiting} | (proc = exiting) -> idle esac)],\n",
       " [G ((proc = idle) ⇒ XF (proc = idle))])"
      ]
     },
     "execution_count": 1,
     "metadata": {},
     "output_type": "execute_result"
    }
   ],
   "source": [
    "from parse import parse\n",
    "\n",
    "with open('examples/1.smv') as f:\n",
    "    invars, inits, nexts, ltls = parse(f.read())\n",
    "inits, nexts, ltls"
   ]
  },
  {
   "cell_type": "code",
   "execution_count": null,
   "metadata": {},
   "outputs": [
    {
     "name": "stdout",
     "output_type": "stream",
     "text": [
      "(proc = idle)\n"
     ]
    }
   ],
   "source": []
  }
 ],
 "metadata": {
  "kernelspec": {
   "display_name": "cav",
   "language": "python",
   "name": "python3"
  },
  "language_info": {
   "codemirror_mode": {
    "name": "ipython",
    "version": 3
   },
   "file_extension": ".py",
   "mimetype": "text/x-python",
   "name": "python",
   "nbconvert_exporter": "python",
   "pygments_lexer": "ipython3",
   "version": "3.12.3"
  }
 },
 "nbformat": 4,
 "nbformat_minor": 2
}
