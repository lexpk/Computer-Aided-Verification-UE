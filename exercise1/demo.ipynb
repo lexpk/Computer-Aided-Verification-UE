{
 "cells": [
  {
   "cell_type": "code",
   "execution_count": 1,
   "metadata": {},
   "outputs": [
    {
     "name": "stdout",
     "output_type": "stream",
     "text": [
      "input_file\n",
      "  module_body\n",
      "    var_list\n",
      "      x\n",
      "      type_specifier\n",
      "        enum\n",
      "          a\n",
      "          b\n",
      "          c\n",
      "  module_body\n",
      "    assign_list\n",
      "      assign\n",
      "        invar\n",
      "          x\n",
      "          expr\n",
      "            basic_expr\n",
      "              basic_expr\ta\n",
      "              &\n",
      "              basic_expr\n",
      "                basic_expr\tb\n",
      "                =\n",
      "                basic_expr\tc\n",
      "\n"
     ]
    }
   ],
   "source": [
    "from lark import Lark\n",
    "\n",
    "with open('grammar.lark') as f:\n",
    "    grammar = f.read()\n",
    "    \n",
    "parser = Lark(grammar, start='input_file')\n",
    "print(parser.parse(r'''\n",
    "    MODULE main\n",
    "    VAR\n",
    "        x: {a, b, c};\n",
    "    ASSIGN\n",
    "        x := a & b = c;     \n",
    "''').pretty())"
   ]
  },
  {
   "cell_type": "code",
   "execution_count": 2,
   "metadata": {},
   "outputs": [],
   "source": [
    "with open('examples/1.smv') as f:\n",
    "    tree = parser.parse(f.read())"
   ]
  },
  {
   "cell_type": "code",
   "execution_count": 3,
   "metadata": {},
   "outputs": [
    {
     "data": {
      "text/plain": [
       "({'lock'}, {'proc'}, {'critical', 'entering', 'exiting', 'idle'})"
      ]
     },
     "execution_count": 3,
     "metadata": {},
     "output_type": "execute_result"
    }
   ],
   "source": [
    "from lark import Visitor, Token, Transformer\n",
    "\n",
    "class VarDeclarations(Visitor):\n",
    "    def __init__(self):\n",
    "        self.boolean_variables = set()\n",
    "        self.enum_variables = set()\n",
    "        self.enum_values = set()\n",
    "    \n",
    "    def var_list(self, tree):\n",
    "        if tree.children[1].children == []:\n",
    "            self.boolean_variables.add(tree.children[0].value)\n",
    "        else:\n",
    "            self.enum_variables.add(tree.children[0].value)\n",
    "            self.enum_values |= {token.value for token in tree.children[1].children[0].children}\n",
    "            \n",
    "\n",
    "visitor = VarDeclarations()\n",
    "visitor.visit(tree)\n",
    "visitor.boolean_variables, visitor.enum_variables, visitor.enum_values"
   ]
  },
  {
   "cell_type": "code",
   "execution_count": 29,
   "metadata": {},
   "outputs": [
    {
     "name": "stdout",
     "output_type": "stream",
     "text": [
      "<syntax.EnumValue object at 0x7fe00199e900>\n",
      "<syntax.Enum object at 0x7fe000e93770>\n",
      "<syntax.EnumValue object at 0x7fe000e91430>\n",
      "<syntax.EnumValue object at 0x7fe000e901a0>\n",
      "[<syntax.And object at 0x7fe000e92ae0>, <syntax.Eq object at 0x7fe000e90470>, <syntax.Eq object at 0x7fe000e91610>, <syntax.Eq object at 0x7fe00199e0c0>, <syntax.BooleanValue object at 0x7fe00199edb0>] [<syntax.EnumValue object at 0x7fe000e901a0>, <syntax.EnumValue object at 0x7fe000e91430>, <syntax.Enum object at 0x7fe000e93770>, <syntax.EnumValue object at 0x7fe00199e900>, <syntax.EnumIdentifier object at 0x7fe00199ec30>]\n",
      "<syntax.BooleanValue object at 0x7fe000eaaa80>\n",
      "<syntax.BooleanValue object at 0x7fe000eaa8d0>\n"
     ]
    },
    {
     "data": {
      "text/plain": [
       "Tree(Token('RULE', 'input_file'), [Tree(Token('RULE', 'module_body'), [Tree(Token('RULE', 'var_list'), [<syntax.BooleanIdentifier object at 0x7fe0185b2a50>, Tree(Token('RULE', 'type_specifier'), []), Tree(Token('RULE', 'var_list'), [<syntax.EnumIdentifier object at 0x7fe000e914c0>, Tree(Token('RULE', 'type_specifier'), [<syntax.Enum object at 0x7fe000e90d70>])])])]), Tree(Token('RULE', 'module_body'), [Tree(Token('RULE', 'assign_list'), [Tree(Token('RULE', 'assign_list'), [Tree(Token('RULE', 'assign_list'), [Tree(Token('RULE', 'assign'), [Tree(Token('RULE', 'init'), [<syntax.EnumIdentifier object at 0x7fe000e90b90>, Tree(Token('RULE', 'expr'), [<syntax.EnumValue object at 0x7fe000e91b50>])])])]), Tree(Token('RULE', 'assign'), [Tree(Token('RULE', 'next'), [<syntax.EnumIdentifier object at 0x7fe000e90f80>, Tree(Token('RULE', 'expr'), [<syntax.EnumCase object at 0x7fe000e918e0>])])])]), Tree(Token('RULE', 'assign'), [Tree(Token('RULE', 'next'), [<syntax.BooleanIdentifier object at 0x7fe000ea1670>, Tree(Token('RULE', 'expr'), [<syntax.BooleanCase object at 0x7fe000ea3860>])])])])]), Tree(Token('RULE', 'module_body'), [<syntax.G object at 0x7fe0018583e0>])])"
      ]
     },
     "execution_count": 29,
     "metadata": {},
     "output_type": "execute_result"
    }
   ],
   "source": [
    "from syntax import *\n",
    "\n",
    "class Expression(Transformer):\n",
    "    def __init__(self, boolean_variables, enum_variables, enum_values):\n",
    "        self.boolean_variables = boolean_variables\n",
    "        self.enum_variables = enum_variables\n",
    "        self.enum_values = enum_values\n",
    "    \n",
    "    def IDENTIFIER(self, data):\n",
    "        if data in self.boolean_variables:\n",
    "            return BooleanIdentifier(data)\n",
    "        elif data in ['TRUE', 'FALSE']:\n",
    "            return BooleanValue(data)\n",
    "        elif data in self.enum_variables:\n",
    "            return EnumIdentifier(data)\n",
    "        elif data in self.enum_values:\n",
    "            return EnumValue(data)\n",
    "\n",
    "\n",
    "    def enum(self, children):\n",
    "        return Enum(children)\n",
    "\n",
    "\n",
    "    def basic_expr(self, children):\n",
    "        match len(children):\n",
    "            case 1:\n",
    "                return children[0]\n",
    "            case 2:\n",
    "                return Not(children[1])\n",
    "            case 3:\n",
    "                match children[1].type:\n",
    "                    case 'AND':\n",
    "                        return And(children[0], children[2])\n",
    "                    case 'OR':\n",
    "                        return Or(children[0], children[2])\n",
    "                    case 'IMPLIES':\n",
    "                        return Implies(children[0], children[2])\n",
    "                    case 'EQ':\n",
    "                        return Eq(children[0], children[2])\n",
    "                    case 'NEQ':\n",
    "                        return Neq(children[0], children[2])\n",
    "                    case 'IN':\n",
    "                        return In(children[0], children[2])\n",
    "\n",
    "\n",
    "    def case_body(self, children):\n",
    "        if len(children) == 3:\n",
    "            print(children[1])\n",
    "            return ([children[0]] + children[2][0], [children[1]] + children[2][1], children[2][2])\n",
    "        else:\n",
    "            return ([children[0]], [children[1]], \\\n",
    "                \"Boolean\" if isinstance(children[1], BooleanExpression) else \"Enum\")\n",
    "\n",
    "\n",
    "    def case_expr(self, children):\n",
    "        match children[0][2]:\n",
    "            case \"Boolean\":\n",
    "                return BooleanCase(children[0][0], children[0][1])\n",
    "            case \"Enum\":\n",
    "                print(children[0][0], children[0][1])\n",
    "                return EnumCase(children[0][0], children[0][1])\n",
    "\n",
    "\n",
    "    def ltl(self, children):\n",
    "        match len(children):\n",
    "            case 1:\n",
    "                return children[0]\n",
    "            case 2:\n",
    "                match children[0].type:\n",
    "                    case 'G':\n",
    "                        return G(children[1])\n",
    "                    case 'F':\n",
    "                        return F(children[1])\n",
    "                    case 'X':\n",
    "                        return X(children[1])\n",
    "                    case 'Not':\n",
    "                        return Not(children[1])\n",
    "            case 3:\n",
    "                match children[1].type:\n",
    "                    case 'AND':\n",
    "                        return And(children[0], children[2])\n",
    "                    case 'OR':\n",
    "                        return Or(children[0], children[2])\n",
    "                    case 'IMPLIES':\n",
    "                        return Implies(children[0], children[2])\n",
    "                    case 'EQ':\n",
    "                        return Eq(children[0], children[2])\n",
    "                    case 'NEQ':\n",
    "                        return Neq(children[0], children[2])\n",
    "                    case 'IN':\n",
    "                        return In(children[0], children[2])\n",
    "            \n",
    "\n",
    "\n",
    "expr = Expression(visitor.boolean_variables, visitor.enum_variables, visitor.enum_values)\n",
    "expr.transform(tree)"
   ]
  },
  {
   "cell_type": "code",
   "execution_count": null,
   "metadata": {},
   "outputs": [
    {
     "name": "stdout",
     "output_type": "stream",
     "text": [
      "Tree(Token('RULE', 'assign'), [Tree(Token('RULE', 'init'), [Token('IDENTIFIER', 'proc'), Tree(Token('RULE', 'expr'), [Tree(Token('RULE', 'basic_expr'), [Token('IDENTIFIER', 'idle')])])])])\n",
      "init\n",
      "Tree(Token('RULE', 'assign'), [Tree(Token('RULE', 'next'), [Token('IDENTIFIER', 'proc'), Tree(Token('RULE', 'expr'), [Tree(Token('RULE', 'case_expr'), [Tree(Token('RULE', 'case_body'), [Tree(Token('RULE', 'case_body'), [Tree(Token('RULE', 'case_body'), [Tree(Token('RULE', 'case_body'), [Tree(Token('RULE', 'case_body'), [Tree(Token('RULE', 'basic_expr'), [Tree(Token('RULE', 'basic_expr'), [Tree(Token('RULE', 'basic_expr'), [Token('IDENTIFIER', 'proc')]), Token('EQ', '='), Tree(Token('RULE', 'basic_expr'), [Token('IDENTIFIER', 'idle')])]), Token('AND', '&'), Tree(Token('RULE', 'basic_expr'), [Tree(Token('RULE', 'basic_expr'), [Token('IDENTIFIER', 'lock')]), Token('EQ', '='), Tree(Token('RULE', 'basic_expr'), [Token('IDENTIFIER', 'FALSE')])])]), Tree(Token('RULE', 'basic_expr'), [Token('IDENTIFIER', 'entering')])]), Tree(Token('RULE', 'basic_expr'), [Tree(Token('RULE', 'basic_expr'), [Token('IDENTIFIER', 'proc')]), Token('EQ', '='), Tree(Token('RULE', 'basic_expr'), [Token('IDENTIFIER', 'entering')])]), Tree(Token('RULE', 'basic_expr'), [Token('IDENTIFIER', 'critical')])]), Tree(Token('RULE', 'basic_expr'), [Tree(Token('RULE', 'basic_expr'), [Token('IDENTIFIER', 'proc')]), Token('EQ', '='), Tree(Token('RULE', 'basic_expr'), [Token('IDENTIFIER', 'critical')])]), Tree(Token('RULE', 'basic_expr'), [Tree(Token('RULE', 'enum'), [Token('IDENTIFIER', 'critical'), Token('IDENTIFIER', 'exiting')])])]), Tree(Token('RULE', 'basic_expr'), [Tree(Token('RULE', 'basic_expr'), [Token('IDENTIFIER', 'proc')]), Token('EQ', '='), Tree(Token('RULE', 'basic_expr'), [Token('IDENTIFIER', 'exiting')])]), Tree(Token('RULE', 'basic_expr'), [Token('IDENTIFIER', 'idle')])]), Tree(Token('RULE', 'basic_expr'), [Token('IDENTIFIER', 'TRUE')]), Tree(Token('RULE', 'basic_expr'), [Token('IDENTIFIER', 'proc')])])])])])])\n",
      "next\n",
      "Tree(Token('RULE', 'assign'), [Tree(Token('RULE', 'next'), [Token('IDENTIFIER', 'lock'), Tree(Token('RULE', 'expr'), [Tree(Token('RULE', 'case_expr'), [Tree(Token('RULE', 'case_body'), [Tree(Token('RULE', 'case_body'), [Tree(Token('RULE', 'case_body'), [Tree(Token('RULE', 'basic_expr'), [Tree(Token('RULE', 'basic_expr'), [Tree(Token('RULE', 'basic_expr'), [Token('IDENTIFIER', 'proc')]), Token('EQ', '='), Tree(Token('RULE', 'basic_expr'), [Token('IDENTIFIER', 'idle')])]), Token('AND', '&'), Tree(Token('RULE', 'basic_expr'), [Tree(Token('RULE', 'basic_expr'), [Token('IDENTIFIER', 'lock')]), Token('EQ', '='), Tree(Token('RULE', 'basic_expr'), [Token('IDENTIFIER', 'FALSE')])])]), Tree(Token('RULE', 'basic_expr'), [Token('IDENTIFIER', 'TRUE')])]), Tree(Token('RULE', 'basic_expr'), [Tree(Token('RULE', 'basic_expr'), [Token('IDENTIFIER', 'proc')]), Token('EQ', '='), Tree(Token('RULE', 'basic_expr'), [Token('IDENTIFIER', 'exiting')])]), Tree(Token('RULE', 'basic_expr'), [Token('IDENTIFIER', 'FALSE')])]), Tree(Token('RULE', 'basic_expr'), [Token('IDENTIFIER', 'TRUE')]), Tree(Token('RULE', 'basic_expr'), [Token('IDENTIFIER', 'lock')])])])])])])\n",
      "next\n"
     ]
    },
    {
     "data": {
      "text/plain": [
       "Tree(Token('RULE', 'input_file'), [Tree(Token('RULE', 'module_body'), [Tree(Token('RULE', 'var_list'), [Token('IDENTIFIER', 'lock'), Tree(Token('RULE', 'type_specifier'), []), Tree(Token('RULE', 'var_list'), [Token('IDENTIFIER', 'proc'), Tree(Token('RULE', 'type_specifier'), [Tree(Token('RULE', 'enum'), [Token('IDENTIFIER', 'idle'), Token('IDENTIFIER', 'entering'), Token('IDENTIFIER', 'critical'), Token('IDENTIFIER', 'exiting')])])])])]), Tree(Token('RULE', 'module_body'), [Tree(Token('RULE', 'assign_list'), [Tree(Token('RULE', 'assign_list'), [Tree(Token('RULE', 'assign_list'), [Tree(Token('RULE', 'assign'), [Tree(Token('RULE', 'init'), [Token('IDENTIFIER', 'proc'), Tree(Token('RULE', 'expr'), [Tree(Token('RULE', 'basic_expr'), [Token('IDENTIFIER', 'idle')])])])])]), Tree(Token('RULE', 'assign'), [Tree(Token('RULE', 'next'), [Token('IDENTIFIER', 'proc'), Tree(Token('RULE', 'expr'), [Tree(Token('RULE', 'case_expr'), [Tree(Token('RULE', 'case_body'), [Tree(Token('RULE', 'case_body'), [Tree(Token('RULE', 'case_body'), [Tree(Token('RULE', 'case_body'), [Tree(Token('RULE', 'case_body'), [Tree(Token('RULE', 'basic_expr'), [Tree(Token('RULE', 'basic_expr'), [Tree(Token('RULE', 'basic_expr'), [Token('IDENTIFIER', 'proc')]), Token('EQ', '='), Tree(Token('RULE', 'basic_expr'), [Token('IDENTIFIER', 'idle')])]), Token('AND', '&'), Tree(Token('RULE', 'basic_expr'), [Tree(Token('RULE', 'basic_expr'), [Token('IDENTIFIER', 'lock')]), Token('EQ', '='), Tree(Token('RULE', 'basic_expr'), [Token('IDENTIFIER', 'FALSE')])])]), Tree(Token('RULE', 'basic_expr'), [Token('IDENTIFIER', 'entering')])]), Tree(Token('RULE', 'basic_expr'), [Tree(Token('RULE', 'basic_expr'), [Token('IDENTIFIER', 'proc')]), Token('EQ', '='), Tree(Token('RULE', 'basic_expr'), [Token('IDENTIFIER', 'entering')])]), Tree(Token('RULE', 'basic_expr'), [Token('IDENTIFIER', 'critical')])]), Tree(Token('RULE', 'basic_expr'), [Tree(Token('RULE', 'basic_expr'), [Token('IDENTIFIER', 'proc')]), Token('EQ', '='), Tree(Token('RULE', 'basic_expr'), [Token('IDENTIFIER', 'critical')])]), Tree(Token('RULE', 'basic_expr'), [Tree(Token('RULE', 'enum'), [Token('IDENTIFIER', 'critical'), Token('IDENTIFIER', 'exiting')])])]), Tree(Token('RULE', 'basic_expr'), [Tree(Token('RULE', 'basic_expr'), [Token('IDENTIFIER', 'proc')]), Token('EQ', '='), Tree(Token('RULE', 'basic_expr'), [Token('IDENTIFIER', 'exiting')])]), Tree(Token('RULE', 'basic_expr'), [Token('IDENTIFIER', 'idle')])]), Tree(Token('RULE', 'basic_expr'), [Token('IDENTIFIER', 'TRUE')]), Tree(Token('RULE', 'basic_expr'), [Token('IDENTIFIER', 'proc')])])])])])])]), Tree(Token('RULE', 'assign'), [Tree(Token('RULE', 'next'), [Token('IDENTIFIER', 'lock'), Tree(Token('RULE', 'expr'), [Tree(Token('RULE', 'case_expr'), [Tree(Token('RULE', 'case_body'), [Tree(Token('RULE', 'case_body'), [Tree(Token('RULE', 'case_body'), [Tree(Token('RULE', 'basic_expr'), [Tree(Token('RULE', 'basic_expr'), [Tree(Token('RULE', 'basic_expr'), [Token('IDENTIFIER', 'proc')]), Token('EQ', '='), Tree(Token('RULE', 'basic_expr'), [Token('IDENTIFIER', 'idle')])]), Token('AND', '&'), Tree(Token('RULE', 'basic_expr'), [Tree(Token('RULE', 'basic_expr'), [Token('IDENTIFIER', 'lock')]), Token('EQ', '='), Tree(Token('RULE', 'basic_expr'), [Token('IDENTIFIER', 'FALSE')])])]), Tree(Token('RULE', 'basic_expr'), [Token('IDENTIFIER', 'TRUE')])]), Tree(Token('RULE', 'basic_expr'), [Tree(Token('RULE', 'basic_expr'), [Token('IDENTIFIER', 'proc')]), Token('EQ', '='), Tree(Token('RULE', 'basic_expr'), [Token('IDENTIFIER', 'exiting')])]), Tree(Token('RULE', 'basic_expr'), [Token('IDENTIFIER', 'FALSE')])]), Tree(Token('RULE', 'basic_expr'), [Token('IDENTIFIER', 'TRUE')]), Tree(Token('RULE', 'basic_expr'), [Token('IDENTIFIER', 'lock')])])])])])])])]), Tree(Token('RULE', 'module_body'), [Tree(Token('RULE', 'ltl'), [Token('G', 'G'), Tree(Token('RULE', 'ltl'), [Tree(Token('RULE', 'ltl'), [Tree(Token('RULE', 'ltl'), [Tree(Token('RULE', 'basic_expr'), [Tree(Token('RULE', 'basic_expr'), [Token('IDENTIFIER', 'proc')]), Token('EQ', '='), Tree(Token('RULE', 'basic_expr'), [Token('IDENTIFIER', 'idle')])])]), Token('IMPLIES', '->'), Tree(Token('RULE', 'ltl'), [Token('X', 'X'), Tree(Token('RULE', 'ltl'), [Token('F', 'F'), Tree(Token('RULE', 'ltl'), [Tree(Token('RULE', 'basic_expr'), [Tree(Token('RULE', 'basic_expr'), [Token('IDENTIFIER', 'proc')]), Token('EQ', '='), Tree(Token('RULE', 'basic_expr'), [Token('IDENTIFIER', 'idle')])])])])])])])])])])"
      ]
     },
     "execution_count": 5,
     "metadata": {},
     "output_type": "execute_result"
    }
   ],
   "source": [
    "from lark.visitors import Interpreter, Visitor\n",
    "\n",
    "class MyInterpreter(Visitor):\n",
    "    def __init__(self) -> None:\n",
    "        super().__init__()\n",
    "        self.invar = {}\n",
    "    \n",
    "    def assign(self, tree):\n",
    "        print(tree)\n",
    "        match tree.children[0].data:\n",
    "            case 'init':\n",
    "                print('init')\n",
    "            case 'next':\n",
    "                print('next')\n",
    "            case 'invar':\n",
    "                print('invar')\n",
    "        \n",
    "inter = MyInterpreter()\n",
    "\n",
    "inter.visit(tree)"
   ]
  },
  {
   "cell_type": "markdown",
   "metadata": {},
   "source": [
    "The recommended SAT-interface for this exercises is [pysat](https://pysathq.github.io/). If you installed the requirements, you should already have it."
   ]
  },
  {
   "cell_type": "code",
   "execution_count": null,
   "metadata": {},
   "outputs": [
    {
     "name": "stdout",
     "output_type": "stream",
     "text": [
      "True\n",
      "[-1, -2, -3]\n"
     ]
    }
   ],
   "source": [
    "import pysat\n",
    "\n",
    "from pysat.solvers import Cadical195 as Solver\n",
    "\n",
    "g = Solver()\n",
    "g.add_clause([-1, 2])\n",
    "g.add_clause([-2, 3])\n",
    "print(g.solve())\n",
    "print(g.get_model())"
   ]
  },
  {
   "cell_type": "code",
   "execution_count": null,
   "metadata": {},
   "outputs": [],
   "source": []
  }
 ],
 "metadata": {
  "kernelspec": {
   "display_name": "cav",
   "language": "python",
   "name": "python3"
  },
  "language_info": {
   "codemirror_mode": {
    "name": "ipython",
    "version": 3
   },
   "file_extension": ".py",
   "mimetype": "text/x-python",
   "name": "python",
   "nbconvert_exporter": "python",
   "pygments_lexer": "ipython3",
   "version": "3.12.3"
  }
 },
 "nbformat": 4,
 "nbformat_minor": 2
}
