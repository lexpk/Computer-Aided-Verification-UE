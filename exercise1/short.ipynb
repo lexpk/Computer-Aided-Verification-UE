{
 "cells": [
  {
   "cell_type": "markdown",
   "metadata": {},
   "source": [
    "This notebook contains an example SMT-encoding for the example `simple_proc.smv` for Bounded Model Checking. We follow chapter 8 of the [lecture notes of Fabio Somenzi](https://tuwel.tuwien.ac.at/mod/resource/view.php?id=2311706). Let us first import z3, this is the SMT solver we will use to encode the problem and solve it."
   ]
  },
  {
   "cell_type": "code",
   "execution_count": 1,
   "metadata": {},
   "outputs": [],
   "source": [
    "from z3 import *\n",
    "set_param(proof=True)"
   ]
  },
  {
   "cell_type": "markdown",
   "metadata": {},
   "source": [
    "As opposed to SAT-Solvers, z3 can handle more complex theories, e.g. encode enumeration types natively."
   ]
  },
  {
   "cell_type": "code",
   "execution_count": 2,
   "metadata": {},
   "outputs": [],
   "source": [
    "State, (ready, busy) = EnumSort('State', ('ready', 'busy'))"
   ]
  },
  {
   "cell_type": "markdown",
   "metadata": {},
   "source": [
    "We will now encode the specification from `examples/short.smv` into SMT. Specifically, we want to check whether there is a $(k,l)$-loop (see [page 370](https://tuwel.tuwien.ac.at/mod/resource/view.php?id=2311706)) which violates one of the LTL properties."
   ]
  },
  {
   "cell_type": "code",
   "execution_count": 3,
   "metadata": {},
   "outputs": [],
   "source": [
    "# The states of the loop are simply the integers from 0 to k.  For convenience,\n",
    "# we define a function that gives us the next state.\n",
    "def succ(k, l, i):\n",
    "    return (i + 1) if i < k else l\n",
    "\n",
    "# First we must declare all variables that will be used in the model. Each state\n",
    "# of the (k,l)-loop will have a request variable and a state variable.\n",
    "def variables(k):\n",
    "    return {f'request{i}' : Bool(f'request{i}') for i in range(k + 1)} | \\\n",
    "        {f'state{i}' : Const(f'state{i}', State) for i in range(k + 1)}\n",
    "\n",
    "# We now define the constraints on the (k,l)-loop that come from the transition\n",
    "# relation.\n",
    "def init_constraint(vars):\n",
    "    # The initial state of the loop is ready.\n",
    "    return vars['state0'] == ready\n",
    "\n",
    "def trans_constraint(k, l, vars):\n",
    "    # If state i is ready and request i is true, then state i+1 is busy.\n",
    "    return And(*[\n",
    "        Implies(\n",
    "            And(vars[f'state{i}'] == ready, vars[f'request{i}']),\n",
    "            vars[f'state{succ(k, l, i)}'] == busy\n",
    "        ) for i in range(k + 1)\n",
    "    ])"
   ]
  },
  {
   "cell_type": "markdown",
   "metadata": {},
   "source": [
    "Let us check if there is a $(0,0)$-loop modelling this transition system, without any additional specifications:"
   ]
  },
  {
   "cell_type": "code",
   "execution_count": 4,
   "metadata": {},
   "outputs": [
    {
     "name": "stdout",
     "output_type": "stream",
     "text": [
      "sat\n"
     ]
    }
   ],
   "source": [
    "s = Solver()\n",
    "vars = variables(0)\n",
    "s.add(init_constraint(vars))\n",
    "s.add(trans_constraint(0, 0, vars))\n",
    "print(s.check())"
   ]
  },
  {
   "cell_type": "markdown",
   "metadata": {},
   "source": [
    "The solver returned `sat`, meaning it has found a model, let's check it out:"
   ]
  },
  {
   "cell_type": "code",
   "execution_count": 5,
   "metadata": {},
   "outputs": [
    {
     "name": "stdout",
     "output_type": "stream",
     "text": [
      "[request0 = False, state0 = ready]\n"
     ]
    }
   ],
   "source": [
    "print(s.model())"
   ]
  },
  {
   "cell_type": "markdown",
   "metadata": {},
   "source": [
    "Let us now encode the LTL properties into SMT."
   ]
  },
  {
   "cell_type": "code",
   "execution_count": 6,
   "metadata": {},
   "outputs": [],
   "source": [
    "# We define a helper function that, given k, l and a state i, returns a formula\n",
    "# that encodes if F state = busy holds in that state.\n",
    "def F_state_busy(k, l, i, vars):\n",
    "    return Or(*[\n",
    "        vars[f'state{j}'] == busy for j in (\n",
    "            range(i, k + 1) if i < l else range(l, k + 1)\n",
    "        )\n",
    "    ])\n",
    "\n",
    "def LTLSPEC1(k, l, vars):\n",
    "    return And(*[\n",
    "        Implies(\n",
    "            vars[f'request{i}'],\n",
    "            F_state_busy(k, l, i, vars)\n",
    "        ) for i in range(k + 1)\n",
    "    ])\n",
    "\n",
    "def LTLSPEC2(k, l, vars):\n",
    "    return And(*[\n",
    "        Implies(\n",
    "            vars[f'request{i}'],\n",
    "            F_state_busy(k, l, succ(k, l, i), vars)\n",
    "        ) for i in range(k + 1)\n",
    "    ])"
   ]
  },
  {
   "cell_type": "markdown",
   "metadata": {},
   "source": [
    "We define now two methods which check for each LTL property if there is a $(k,l)$-loop violating it."
   ]
  },
  {
   "cell_type": "code",
   "execution_count": 7,
   "metadata": {},
   "outputs": [],
   "source": [
    "def encoding1(k, l): \n",
    "    s = Solver()\n",
    "    vars = variables(k)\n",
    "    s.add(init_constraint(vars))\n",
    "    s.add(trans_constraint(k, l, vars))\n",
    "    s.add(Not(LTLSPEC1(k, l, vars)))\n",
    "    return s\n",
    "\n",
    "def encoding2(k, l):\n",
    "    s = Solver()\n",
    "    vars = variables(k)\n",
    "    s.add(init_constraint(vars))\n",
    "    s.add(trans_constraint(k, l, vars))\n",
    "    s.add(Not(LTLSPEC2(k, l, vars)))\n",
    "    return s"
   ]
  },
  {
   "cell_type": "markdown",
   "metadata": {},
   "source": [
    "We see that there is no $(k,l)$-loop violating property 1 for $k \\leq 10$."
   ]
  },
  {
   "cell_type": "code",
   "execution_count": 8,
   "metadata": {},
   "outputs": [
    {
     "name": "stdout",
     "output_type": "stream",
     "text": [
      "LTLSPEC1 is satisfied for all k, l <= 10\n"
     ]
    }
   ],
   "source": [
    "for k, l in [(k, l) for k in range(1, 10) for l in range(1, k + 1)]:\n",
    "    s = encoding1(k, l)\n",
    "    if s.check() == sat:\n",
    "        print(f'LTLSPEC1({k}, {l}) is not satisfied')\n",
    "        print(s.model())\n",
    "        break\n",
    "else:\n",
    "    print('LTLSPEC1 is satisfied for all k, l <= 10')"
   ]
  },
  {
   "cell_type": "markdown",
   "metadata": {},
   "source": [
    "On the other hand, there is a $(2,2)$-loop violating property 2."
   ]
  },
  {
   "cell_type": "code",
   "execution_count": 9,
   "metadata": {},
   "outputs": [
    {
     "name": "stdout",
     "output_type": "stream",
     "text": [
      "LTLSPEC2(2, 2) is not satisfied\n",
      "[request1 = True,\n",
      " request2 = False,\n",
      " state2 = ready,\n",
      " state1 = busy,\n",
      " state0 = ready]\n"
     ]
    }
   ],
   "source": [
    "for k, l in [(k, l) for k in range(1, 10) for l in range(1, k + 1)]:\n",
    "    s = encoding2(k, l)\n",
    "    if s.check() == sat:\n",
    "        print(f'LTLSPEC2({k}, {l}) is not satisfied')\n",
    "        print(s.model())\n",
    "        break\n",
    "else:\n",
    "    print('LTLSPEC2 is satisfied for all k, l <= 10')"
   ]
  }
 ],
 "metadata": {
  "kernelspec": {
   "display_name": "cav",
   "language": "python",
   "name": "python3"
  },
  "language_info": {
   "codemirror_mode": {
    "name": "ipython",
    "version": 3
   },
   "file_extension": ".py",
   "mimetype": "text/x-python",
   "name": "python",
   "nbconvert_exporter": "python",
   "pygments_lexer": "ipython3",
   "version": "3.12.3"
  }
 },
 "nbformat": 4,
 "nbformat_minor": 2
}
